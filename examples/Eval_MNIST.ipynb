{
 "cells": [
  {
   "cell_type": "code",
   "execution_count": 1,
   "id": "e34274a2",
   "metadata": {},
   "outputs": [
    {
     "name": "stderr",
     "output_type": "stream",
     "text": [
      "┌ Info: Precompiling Tao [570b2322-4165-4d3e-aeff-9f78c1c9f963]\n",
      "└ @ Base loading.jl:1423\n",
      "\u001b[33m\u001b[1m┌ \u001b[22m\u001b[39m\u001b[33m\u001b[1mWarning: \u001b[22m\u001b[39mPackage Tao does not have UUIDs in its dependencies:\n",
      "\u001b[33m\u001b[1m│ \u001b[22m\u001b[39m- If you have Tao checked out for development and have\n",
      "\u001b[33m\u001b[1m│ \u001b[22m\u001b[39m  added UUIDs as a dependency but haven't updated your primary\n",
      "\u001b[33m\u001b[1m│ \u001b[22m\u001b[39m  environment's manifest file, try `Pkg.resolve()`.\n",
      "\u001b[33m\u001b[1m│ \u001b[22m\u001b[39m- Otherwise you may need to report an issue with Tao\n",
      "\u001b[33m\u001b[1m└ \u001b[22m\u001b[39mLoading UUIDs into Tao from project dependency, future warnings for Tao are suppressed.\n"
     ]
    }
   ],
   "source": [
    "using Base.Iterators\n",
    "using ChainRulesCore\n",
    "using LinearAlgebra\n",
    "using Match\n",
    "using MLDatasets\n",
    "using PrettyPrint\n",
    "using PyPlot\n",
    "using Random\n",
    "using Serialization\n",
    "using Tao\n",
    "using Zygote\n",
    "using Flux"
   ]
  },
  {
   "cell_type": "code",
   "execution_count": 2,
   "id": "f1109e0b",
   "metadata": {},
   "outputs": [
    {
     "data": {
      "text/plain": [
       "one_hot (generic function with 1 method)"
      ]
     },
     "execution_count": 2,
     "metadata": {},
     "output_type": "execute_result"
    }
   ],
   "source": [
    "function one_hot(T, i::U, n::Int64) where {U}\n",
    "    v = zeros(T, n)\n",
    "    v[Int64(i)] = T(1)\n",
    "    return v\n",
    "end"
   ]
  },
  {
   "cell_type": "code",
   "execution_count": 3,
   "id": "e87395e5",
   "metadata": {},
   "outputs": [
    {
     "data": {
      "text/plain": [
       "10×60000 Matrix{Float32}:\n",
       " 0.0  1.0  0.0  0.0  0.0  0.0  0.0  0.0  …  0.0  0.0  0.0  0.0  0.0  0.0  0.0\n",
       " 0.0  0.0  0.0  1.0  0.0  0.0  1.0  0.0     0.0  1.0  0.0  0.0  0.0  0.0  0.0\n",
       " 0.0  0.0  0.0  0.0  0.0  1.0  0.0  0.0     0.0  0.0  0.0  0.0  0.0  0.0  0.0\n",
       " 0.0  0.0  0.0  0.0  0.0  0.0  0.0  1.0     0.0  0.0  0.0  1.0  0.0  0.0  0.0\n",
       " 0.0  0.0  1.0  0.0  0.0  0.0  0.0  0.0     0.0  0.0  0.0  0.0  0.0  0.0  0.0\n",
       " 1.0  0.0  0.0  0.0  0.0  0.0  0.0  0.0  …  1.0  0.0  0.0  0.0  1.0  0.0  0.0\n",
       " 0.0  0.0  0.0  0.0  0.0  0.0  0.0  0.0     0.0  0.0  0.0  0.0  0.0  1.0  0.0\n",
       " 0.0  0.0  0.0  0.0  0.0  0.0  0.0  0.0     0.0  0.0  0.0  0.0  0.0  0.0  0.0\n",
       " 0.0  0.0  0.0  0.0  0.0  0.0  0.0  0.0     0.0  0.0  1.0  0.0  0.0  0.0  1.0\n",
       " 0.0  0.0  0.0  0.0  1.0  0.0  0.0  0.0     0.0  0.0  0.0  0.0  0.0  0.0  0.0"
      ]
     },
     "execution_count": 3,
     "metadata": {},
     "output_type": "execute_result"
    }
   ],
   "source": [
    "T = Float32\n",
    "X, Y = MNIST.traindata(T)\n",
    "Y = mapreduce(y -> one_hot(T, y+1, 10), hcat, Y)"
   ]
  },
  {
   "cell_type": "code",
   "execution_count": 4,
   "id": "6622db83",
   "metadata": {},
   "outputs": [
    {
     "data": {
      "text/plain": [
       "ParameterContainer(OrderedCollections.OrderedDict{Any, Vector{<:Type}}(UUID(\"0b793159-d274-425a-aef0-3db478324626\") => DataType[Float32], UUID(\"856e446e-0c6a-472a-9638-f7b8557cd282\") => DataType[Float32], UUID(\"e410a059-02f5-4b45-b0df-42ece728d69f\") => DataType[Float32]), OrderedCollections.OrderedDict{Any, Vector{UnitRange{Int64}}}(UUID(\"0b793159-d274-425a-aef0-3db478324626\") => UnitRange{Int64}[1:320], UUID(\"856e446e-0c6a-472a-9638-f7b8557cd282\") => UnitRange{Int64}[321:25408], UUID(\"e410a059-02f5-4b45-b0df-42ece728d69f\") => UnitRange{Int64}[25409:25440]), OrderedCollections.OrderedDict{Any, Vector{Union{Tuple{Vararg{Int64}}, Vector{Int64}}}}(UUID(\"0b793159-d274-425a-aef0-3db478324626\") => Union{Tuple{Vararg{Int64}}, Vector{Int64}}[(10, 32)], UUID(\"856e446e-0c6a-472a-9638-f7b8557cd282\") => Union{Tuple{Vararg{Int64}}, Vector{Int64}}[(32, 784)], UUID(\"e410a059-02f5-4b45-b0df-42ece728d69f\") => Union{Tuple{Vararg{Int64}}, Vector{Int64}}[(32,)]), OrderedCollections.OrderedDict{Type{<:Number}, Vector{<:Number}}(Float32 => Float32[-0.77795166, 0.59095174, 0.44202048, -0.038807865, -0.1937458, 0.15407439, 0.11221815, 1.1913617, 0.043777455, -1.5096478  …  0.17863467, -0.23634022, -0.07523071, -0.06680956, -0.4420741, 0.2387394, -0.2865898, 0.075764336, -0.095190205, -0.111851215]))"
      ]
     },
     "execution_count": 4,
     "metadata": {},
     "output_type": "execute_result"
    }
   ],
   "source": [
    "F = open(deserialize, \"model_200.jls\")\n",
    "θ = open(deserialize, \"params_200.jls\")"
   ]
  },
  {
   "cell_type": "code",
   "execution_count": 5,
   "id": "28c475d8",
   "metadata": {},
   "outputs": [
    {
     "name": "stdout",
     "output_type": "stream",
     "text": [
      "y = Float32[3.0562336f-7, 0.00030607593, 9.808371f-5, 5.6017998f-5, 3.456994f-8, 0.0010074455, 9.103138f-8, 9.606481f-6, 0.9984804, 4.198396f-5]\n",
      "pred = 8\n"
     ]
    },
    {
     "data": {
      "image/png": "[encoded data removed]",
      "text/plain": [
       "Figure(PyObject <Figure size 640x480 with 1 Axes>)"
      ]
     },
     "metadata": {},
     "output_type": "display_data"
    }
   ],
   "source": [
    "x = X[:,:,18]\n",
    "y = (F(vec(x), θ))\n",
    "imshow(transpose(x), cmap=\"gray\")\n",
    "(_, digit) = findmax(y)\n",
    "@show y\n",
    "println(\"pred = $(digit-1)\")"
   ]
  },
  {
   "cell_type": "code",
   "execution_count": null,
   "id": "62ec4302",
   "metadata": {},
   "outputs": [],
   "source": []
  }
 ],
 "metadata": {
  "kernelspec": {
   "display_name": "Julia 1.7.3",
   "language": "julia",
   "name": "julia-1.7"
  },
  "language_info": {
   "file_extension": ".jl",
   "mimetype": "application/julia",
   "name": "julia",
   "version": "1.7.3"
  }
 },
 "nbformat": 4,
 "nbformat_minor": 5
}
