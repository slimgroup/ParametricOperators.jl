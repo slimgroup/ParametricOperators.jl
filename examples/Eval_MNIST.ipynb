{
 "cells": [
  {
   "cell_type": "code",
   "execution_count": null,
   "id": "e34274a2",
   "metadata": {},
   "outputs": [],
   "source": [
    "using Base.Iterators\n",
    "using ChainRulesCore\n",
    "using LinearAlgebra\n",
    "using Match\n",
    "using MLDatasets\n",
    "using PrettyPrint\n",
    "using PyPlot\n",
    "using Random\n",
    "using Serialization\n",
    "using Tao\n",
    "using Zygote\n",
    "using Flux"
   ]
  },
  {
   "cell_type": "code",
   "execution_count": null,
   "id": "f1109e0b",
   "metadata": {},
   "outputs": [],
   "source": [
    "function one_hot(T, i::U, n::Int64) where {U}\n",
    "    v = zeros(T, n)\n",
    "    v[Int64(i)] = T(1)\n",
    "    return v\n",
    "end"
   ]
  },
  {
   "cell_type": "code",
   "execution_count": null,
   "id": "e87395e5",
   "metadata": {},
   "outputs": [],
   "source": [
    "T = Float32\n",
    "X, Y = MNIST.traindata(T)\n",
    "Y = mapreduce(y -> one_hot(T, y+1, 10), hcat, Y)"
   ]
  },
  {
   "cell_type": "code",
   "execution_count": null,
   "id": "6622db83",
   "metadata": {},
   "outputs": [],
   "source": [
    "F = open(deserialize, \"model_200.jls\")\n",
    "θ = open(deserialize, \"params_200.jls\")"
   ]
  },
  {
   "cell_type": "code",
   "execution_count": null,
   "id": "28c475d8",
   "metadata": {},
   "outputs": [],
   "source": [
    "x = X[:,:,18]\n",
    "y = (F(vec(x), θ))\n",
    "imshow(transpose(x), cmap=\"gray\")\n",
    "(_, digit) = findmax(y)\n",
    "@show y\n",
    "println(\"pred = $(digit-1)\")"
   ]
  },
  {
   "cell_type": "code",
   "execution_count": null,
   "id": "62ec4302",
   "metadata": {},
   "outputs": [],
   "source": []
  }
 ],
 "metadata": {
  "kernelspec": {
   "display_name": "Julia 1.7.3",
   "language": "julia",
   "name": "julia-1.7"
  },
  "language_info": {
   "file_extension": ".jl",
   "mimetype": "application/julia",
   "name": "julia",
   "version": "1.7.3"
  }
 },
 "nbformat": 4,
 "nbformat_minor": 5
}
